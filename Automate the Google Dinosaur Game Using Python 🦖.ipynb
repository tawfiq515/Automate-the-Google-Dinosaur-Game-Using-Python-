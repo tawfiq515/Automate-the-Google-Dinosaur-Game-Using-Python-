{
 "cells": [
  {
   "cell_type": "code",
   "execution_count": null,
   "metadata": {},
   "outputs": [],
   "source": [
    "import pyautogui\n",
    "import time\n",
    "import numpy as np\n",
    "from PIL import ImageGrab\n",
    "\n",
    "class DinoBot:\n",
    "    def __init__(self):\n",
    "        self.dino_top = 400\n",
    "        self.obstacle_left = 500\n",
    "        self.obstacle_width = 150\n",
    "        self.obstacle_height = 30\n",
    "        self.pixel_threshold = 50\n",
    "        self.cluster_threshold = 15\n",
    "        self.jump_delay = 0.35\n",
    "        self.scan_interval = 0.02\n",
    "\n",
    "    def press_space(self):\n",
    "        pyautogui.press('space')\n",
    "\n",
    "    def get_screenshot(self):\n",
    "        box = (self.obstacle_left, self.dino_top, \n",
    "               self.obstacle_left + self.obstacle_width, \n",
    "               self.dino_top + self.obstacle_height)\n",
    "        return ImageGrab.grab(bbox=box).convert('L')\n",
    "\n",
    "    def detect_obstacle(self, image):\n",
    "        pixels = np.array(image)\n",
    "        obstacle_pixels = pixels < self.pixel_threshold\n",
    "        if np.sum(obstacle_pixels) > self.cluster_threshold:\n",
    "            lower_half = obstacle_pixels[self.obstacle_height//2:, :]\n",
    "            return np.sum(lower_half) > self.cluster_threshold//2\n",
    "        return False\n",
    "\n",
    "    def run(self):\n",
    "        time.sleep(3)\n",
    "        try:\n",
    "            while True:\n",
    "                img = self.get_screenshot()\n",
    "                if self.detect_obstacle(img):\n",
    "                    self.press_space()\n",
    "                    time.sleep(self.jump_delay)\n",
    "                time.sleep(self.scan_interval)\n",
    "        except KeyboardInterrupt:\n",
    "            print(\"Bot stopped\")\n",
    "\n",
    "if __name__ == \"__main__\":\n",
    "    DinoBot().run()"
   ]
  }
 ],
 "metadata": {
  "kernelspec": {
   "display_name": "Python 3",
   "language": "python",
   "name": "python3"
  },
  "language_info": {
   "codemirror_mode": {
    "name": "ipython",
    "version": 3
   },
   "file_extension": ".py",
   "mimetype": "text/x-python",
   "name": "python",
   "nbconvert_exporter": "python",
   "pygments_lexer": "ipython3",
   "version": "3.12.10"
  }
 },
 "nbformat": 4,
 "nbformat_minor": 2
}
